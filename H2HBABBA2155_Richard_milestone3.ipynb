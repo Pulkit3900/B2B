{
 "cells": [
  {
   "cell_type": "markdown",
   "metadata": {},
   "source": [
    "# importing libraries"
   ]
  },
  {
   "cell_type": "code",
   "execution_count": 1,
   "metadata": {},
   "outputs": [],
   "source": [
    "import pandas as pd\n",
    "import numpy\n",
    "import sklearn\n",
    "import numpy as np\n",
    "import  matplotlib.pyplot as plt"
   ]
  },
  {
   "cell_type": "markdown",
   "metadata": {},
   "source": [
    "# Reading csv file "
   ]
  },
  {
   "cell_type": "code",
   "execution_count": 2,
   "metadata": {},
   "outputs": [],
   "source": [
    "df = pd.read_csv('D:\\high radius\\H2HBABBA2155.csv')"
   ]
  },
  {
   "cell_type": "code",
   "execution_count": 4,
   "metadata": {},
   "outputs": [
    {
     "data": {
      "text/html": [
       "<div>\n",
       "<style scoped>\n",
       "    .dataframe tbody tr th:only-of-type {\n",
       "        vertical-align: middle;\n",
       "    }\n",
       "\n",
       "    .dataframe tbody tr th {\n",
       "        vertical-align: top;\n",
       "    }\n",
       "\n",
       "    .dataframe thead th {\n",
       "        text-align: right;\n",
       "    }\n",
       "</style>\n",
       "<table border=\"1\" class=\"dataframe\">\n",
       "  <thead>\n",
       "    <tr style=\"text-align: right;\">\n",
       "      <th></th>\n",
       "      <th>business_code</th>\n",
       "      <th>cust_number</th>\n",
       "      <th>name_customer</th>\n",
       "      <th>clear_date</th>\n",
       "      <th>buisness_year</th>\n",
       "      <th>doc_id</th>\n",
       "      <th>posting_date</th>\n",
       "      <th>document_create_date</th>\n",
       "      <th>document_create_date.1</th>\n",
       "      <th>due_in_date</th>\n",
       "      <th>invoice_currency</th>\n",
       "      <th>document type</th>\n",
       "      <th>posting_id</th>\n",
       "      <th>area_business</th>\n",
       "      <th>total_open_amount</th>\n",
       "      <th>baseline_create_date</th>\n",
       "      <th>cust_payment_terms</th>\n",
       "      <th>invoice_id</th>\n",
       "      <th>isOpen</th>\n",
       "    </tr>\n",
       "  </thead>\n",
       "  <tbody>\n",
       "    <tr>\n",
       "      <th>0</th>\n",
       "      <td>U001</td>\n",
       "      <td>0200781803</td>\n",
       "      <td>JRD associates</td>\n",
       "      <td>2019-08-26 00:00:00</td>\n",
       "      <td>2019.0</td>\n",
       "      <td>1.929715e+09</td>\n",
       "      <td>2019-08-06</td>\n",
       "      <td>20190807</td>\n",
       "      <td>20190806</td>\n",
       "      <td>20190826.0</td>\n",
       "      <td>USD</td>\n",
       "      <td>RV</td>\n",
       "      <td>1.0</td>\n",
       "      <td>NaN</td>\n",
       "      <td>7077.05</td>\n",
       "      <td>20190806.0</td>\n",
       "      <td>NAD1</td>\n",
       "      <td>1.929715e+09</td>\n",
       "      <td>0</td>\n",
       "    </tr>\n",
       "    <tr>\n",
       "      <th>1</th>\n",
       "      <td>U001</td>\n",
       "      <td>0200772670</td>\n",
       "      <td>ASSOCIAT systems</td>\n",
       "      <td>2019-12-26 00:00:00</td>\n",
       "      <td>2019.0</td>\n",
       "      <td>1.930252e+09</td>\n",
       "      <td>2019-12-09</td>\n",
       "      <td>20191209</td>\n",
       "      <td>20191209</td>\n",
       "      <td>20191224.0</td>\n",
       "      <td>USD</td>\n",
       "      <td>RV</td>\n",
       "      <td>1.0</td>\n",
       "      <td>NaN</td>\n",
       "      <td>79240.12</td>\n",
       "      <td>20191209.0</td>\n",
       "      <td>NAU5</td>\n",
       "      <td>1.930252e+09</td>\n",
       "      <td>0</td>\n",
       "    </tr>\n",
       "    <tr>\n",
       "      <th>2</th>\n",
       "      <td>U001</td>\n",
       "      <td>0200762301</td>\n",
       "      <td>C&amp;S WH systems</td>\n",
       "      <td>2020-01-22 00:00:00</td>\n",
       "      <td>2020.0</td>\n",
       "      <td>1.930345e+09</td>\n",
       "      <td>2020-01-04</td>\n",
       "      <td>20200102</td>\n",
       "      <td>20200104</td>\n",
       "      <td>20200119.0</td>\n",
       "      <td>USD</td>\n",
       "      <td>RV</td>\n",
       "      <td>1.0</td>\n",
       "      <td>NaN</td>\n",
       "      <td>70810.05</td>\n",
       "      <td>20200104.0</td>\n",
       "      <td>NAC6</td>\n",
       "      <td>1.930345e+09</td>\n",
       "      <td>0</td>\n",
       "    </tr>\n",
       "    <tr>\n",
       "      <th>3</th>\n",
       "      <td>U001</td>\n",
       "      <td>0200705742</td>\n",
       "      <td>DOT in</td>\n",
       "      <td>NaN</td>\n",
       "      <td>2020.0</td>\n",
       "      <td>1.930641e+09</td>\n",
       "      <td>2020-03-11</td>\n",
       "      <td>20200311</td>\n",
       "      <td>20200311</td>\n",
       "      <td>20200412.0</td>\n",
       "      <td>USD</td>\n",
       "      <td>RV</td>\n",
       "      <td>1.0</td>\n",
       "      <td>NaN</td>\n",
       "      <td>543.23</td>\n",
       "      <td>20200311.0</td>\n",
       "      <td>NA32</td>\n",
       "      <td>1.930641e+09</td>\n",
       "      <td>1</td>\n",
       "    </tr>\n",
       "    <tr>\n",
       "      <th>4</th>\n",
       "      <td>U001</td>\n",
       "      <td>0200769623</td>\n",
       "      <td>WAL-MAR corporation</td>\n",
       "      <td>NaN</td>\n",
       "      <td>2020.0</td>\n",
       "      <td>1.930827e+09</td>\n",
       "      <td>2020-04-26</td>\n",
       "      <td>20200425</td>\n",
       "      <td>20200426</td>\n",
       "      <td>20200511.0</td>\n",
       "      <td>USD</td>\n",
       "      <td>RV</td>\n",
       "      <td>1.0</td>\n",
       "      <td>NaN</td>\n",
       "      <td>5360.79</td>\n",
       "      <td>20200426.0</td>\n",
       "      <td>NAH4</td>\n",
       "      <td>1.930827e+09</td>\n",
       "      <td>1</td>\n",
       "    </tr>\n",
       "  </tbody>\n",
       "</table>\n",
       "</div>"
      ],
      "text/plain": [
       "  business_code cust_number        name_customer           clear_date  \\\n",
       "0          U001  0200781803       JRD associates  2019-08-26 00:00:00   \n",
       "1          U001  0200772670     ASSOCIAT systems  2019-12-26 00:00:00   \n",
       "2          U001  0200762301       C&S WH systems  2020-01-22 00:00:00   \n",
       "3          U001  0200705742               DOT in                  NaN   \n",
       "4          U001  0200769623  WAL-MAR corporation                  NaN   \n",
       "\n",
       "   buisness_year        doc_id posting_date  document_create_date  \\\n",
       "0         2019.0  1.929715e+09   2019-08-06              20190807   \n",
       "1         2019.0  1.930252e+09   2019-12-09              20191209   \n",
       "2         2020.0  1.930345e+09   2020-01-04              20200102   \n",
       "3         2020.0  1.930641e+09   2020-03-11              20200311   \n",
       "4         2020.0  1.930827e+09   2020-04-26              20200425   \n",
       "\n",
       "   document_create_date.1  due_in_date invoice_currency document type  \\\n",
       "0                20190806   20190826.0              USD            RV   \n",
       "1                20191209   20191224.0              USD            RV   \n",
       "2                20200104   20200119.0              USD            RV   \n",
       "3                20200311   20200412.0              USD            RV   \n",
       "4                20200426   20200511.0              USD            RV   \n",
       "\n",
       "   posting_id  area_business  total_open_amount  baseline_create_date  \\\n",
       "0         1.0            NaN            7077.05            20190806.0   \n",
       "1         1.0            NaN           79240.12            20191209.0   \n",
       "2         1.0            NaN           70810.05            20200104.0   \n",
       "3         1.0            NaN             543.23            20200311.0   \n",
       "4         1.0            NaN            5360.79            20200426.0   \n",
       "\n",
       "  cust_payment_terms    invoice_id  isOpen  \n",
       "0               NAD1  1.929715e+09       0  \n",
       "1               NAU5  1.930252e+09       0  \n",
       "2               NAC6  1.930345e+09       0  \n",
       "3               NA32  1.930641e+09       1  \n",
       "4               NAH4  1.930827e+09       1  "
      ]
     },
     "execution_count": 4,
     "metadata": {},
     "output_type": "execute_result"
    }
   ],
   "source": [
    "df.head()"
   ]
  },
  {
   "cell_type": "code",
   "execution_count": null,
   "metadata": {},
   "outputs": [],
   "source": []
  },
  {
   "cell_type": "code",
   "execution_count": null,
   "metadata": {},
   "outputs": [],
   "source": []
  },
  {
   "cell_type": "code",
   "execution_count": null,
   "metadata": {},
   "outputs": [],
   "source": []
  },
  {
   "cell_type": "code",
   "execution_count": null,
   "metadata": {},
   "outputs": [],
   "source": []
  },
  {
   "cell_type": "markdown",
   "metadata": {},
   "source": [
    "# Pre Processing"
   ]
  },
  {
   "cell_type": "code",
   "execution_count": 6,
   "metadata": {},
   "outputs": [
    {
     "data": {
      "text/plain": [
       "Index(['business_code', 'cust_number', 'name_customer', 'clear_date',\n",
       "       'buisness_year', 'doc_id', 'posting_date', 'document_create_date',\n",
       "       'document_create_date.1', 'due_in_date', 'invoice_currency',\n",
       "       'document type', 'posting_id', 'area_business', 'total_open_amount',\n",
       "       'baseline_create_date', 'cust_payment_terms', 'invoice_id', 'isOpen'],\n",
       "      dtype='object')"
      ]
     },
     "execution_count": 6,
     "metadata": {},
     "output_type": "execute_result"
    }
   ],
   "source": [
    "df.columns"
   ]
  },
  {
   "cell_type": "code",
   "execution_count": null,
   "metadata": {},
   "outputs": [],
   "source": []
  },
  {
   "cell_type": "code",
   "execution_count": 7,
   "metadata": {},
   "outputs": [
    {
     "data": {
      "text/plain": [
       "business_code                 6\n",
       "cust_number                1434\n",
       "name_customer              4230\n",
       "clear_date                  403\n",
       "buisness_year                 2\n",
       "doc_id                    48812\n",
       "posting_date                502\n",
       "document_create_date        505\n",
       "document_create_date.1      503\n",
       "due_in_date                 547\n",
       "invoice_currency              2\n",
       "document type                 2\n",
       "posting_id                    1\n",
       "area_business                 0\n",
       "total_open_amount         44223\n",
       "baseline_create_date        504\n",
       "cust_payment_terms           75\n",
       "invoice_id                48808\n",
       "isOpen                        2\n",
       "dtype: int64"
      ]
     },
     "execution_count": 7,
     "metadata": {},
     "output_type": "execute_result"
    }
   ],
   "source": [
    "df.nunique()"
   ]
  },
  {
   "cell_type": "code",
   "execution_count": 8,
   "metadata": {},
   "outputs": [],
   "source": [
    "df = df.rename(columns={'document type': 'document_type'})"
   ]
  },
  {
   "cell_type": "code",
   "execution_count": 9,
   "metadata": {},
   "outputs": [
    {
     "data": {
      "text/plain": [
       "Index(['business_code', 'cust_number', 'name_customer', 'clear_date',\n",
       "       'buisness_year', 'doc_id', 'posting_date', 'document_create_date',\n",
       "       'document_create_date.1', 'due_in_date', 'invoice_currency',\n",
       "       'document_type', 'posting_id', 'area_business', 'total_open_amount',\n",
       "       'baseline_create_date', 'cust_payment_terms', 'invoice_id', 'isOpen'],\n",
       "      dtype='object')"
      ]
     },
     "execution_count": 9,
     "metadata": {},
     "output_type": "execute_result"
    }
   ],
   "source": [
    "df.columns\n"
   ]
  },
  {
   "cell_type": "markdown",
   "metadata": {},
   "source": [
    "# Dropping unnecessary columns"
   ]
  },
  {
   "cell_type": "code",
   "execution_count": 10,
   "metadata": {},
   "outputs": [
    {
     "data": {
      "text/html": [
       "<div>\n",
       "<style scoped>\n",
       "    .dataframe tbody tr th:only-of-type {\n",
       "        vertical-align: middle;\n",
       "    }\n",
       "\n",
       "    .dataframe tbody tr th {\n",
       "        vertical-align: top;\n",
       "    }\n",
       "\n",
       "    .dataframe thead th {\n",
       "        text-align: right;\n",
       "    }\n",
       "</style>\n",
       "<table border=\"1\" class=\"dataframe\">\n",
       "  <thead>\n",
       "    <tr style=\"text-align: right;\">\n",
       "      <th></th>\n",
       "      <th>cust_number</th>\n",
       "      <th>name_customer</th>\n",
       "      <th>clear_date</th>\n",
       "      <th>buisness_year</th>\n",
       "      <th>posting_date</th>\n",
       "      <th>document_create_date</th>\n",
       "      <th>document_create_date.1</th>\n",
       "      <th>due_in_date</th>\n",
       "      <th>invoice_currency</th>\n",
       "      <th>total_open_amount</th>\n",
       "      <th>baseline_create_date</th>\n",
       "      <th>cust_payment_terms</th>\n",
       "      <th>invoice_id</th>\n",
       "      <th>isOpen</th>\n",
       "    </tr>\n",
       "  </thead>\n",
       "  <tbody>\n",
       "    <tr>\n",
       "      <th>0</th>\n",
       "      <td>0200781803</td>\n",
       "      <td>JRD associates</td>\n",
       "      <td>2019-08-26 00:00:00</td>\n",
       "      <td>2019.0</td>\n",
       "      <td>2019-08-06</td>\n",
       "      <td>20190807</td>\n",
       "      <td>20190806</td>\n",
       "      <td>20190826.0</td>\n",
       "      <td>USD</td>\n",
       "      <td>7077.05</td>\n",
       "      <td>20190806.0</td>\n",
       "      <td>NAD1</td>\n",
       "      <td>1.929715e+09</td>\n",
       "      <td>0</td>\n",
       "    </tr>\n",
       "    <tr>\n",
       "      <th>1</th>\n",
       "      <td>0200772670</td>\n",
       "      <td>ASSOCIAT systems</td>\n",
       "      <td>2019-12-26 00:00:00</td>\n",
       "      <td>2019.0</td>\n",
       "      <td>2019-12-09</td>\n",
       "      <td>20191209</td>\n",
       "      <td>20191209</td>\n",
       "      <td>20191224.0</td>\n",
       "      <td>USD</td>\n",
       "      <td>79240.12</td>\n",
       "      <td>20191209.0</td>\n",
       "      <td>NAU5</td>\n",
       "      <td>1.930252e+09</td>\n",
       "      <td>0</td>\n",
       "    </tr>\n",
       "    <tr>\n",
       "      <th>2</th>\n",
       "      <td>0200762301</td>\n",
       "      <td>C&amp;S WH systems</td>\n",
       "      <td>2020-01-22 00:00:00</td>\n",
       "      <td>2020.0</td>\n",
       "      <td>2020-01-04</td>\n",
       "      <td>20200102</td>\n",
       "      <td>20200104</td>\n",
       "      <td>20200119.0</td>\n",
       "      <td>USD</td>\n",
       "      <td>70810.05</td>\n",
       "      <td>20200104.0</td>\n",
       "      <td>NAC6</td>\n",
       "      <td>1.930345e+09</td>\n",
       "      <td>0</td>\n",
       "    </tr>\n",
       "    <tr>\n",
       "      <th>3</th>\n",
       "      <td>0200705742</td>\n",
       "      <td>DOT in</td>\n",
       "      <td>NaN</td>\n",
       "      <td>2020.0</td>\n",
       "      <td>2020-03-11</td>\n",
       "      <td>20200311</td>\n",
       "      <td>20200311</td>\n",
       "      <td>20200412.0</td>\n",
       "      <td>USD</td>\n",
       "      <td>543.23</td>\n",
       "      <td>20200311.0</td>\n",
       "      <td>NA32</td>\n",
       "      <td>1.930641e+09</td>\n",
       "      <td>1</td>\n",
       "    </tr>\n",
       "    <tr>\n",
       "      <th>4</th>\n",
       "      <td>0200769623</td>\n",
       "      <td>WAL-MAR corporation</td>\n",
       "      <td>NaN</td>\n",
       "      <td>2020.0</td>\n",
       "      <td>2020-04-26</td>\n",
       "      <td>20200425</td>\n",
       "      <td>20200426</td>\n",
       "      <td>20200511.0</td>\n",
       "      <td>USD</td>\n",
       "      <td>5360.79</td>\n",
       "      <td>20200426.0</td>\n",
       "      <td>NAH4</td>\n",
       "      <td>1.930827e+09</td>\n",
       "      <td>1</td>\n",
       "    </tr>\n",
       "    <tr>\n",
       "      <th>...</th>\n",
       "      <td>...</td>\n",
       "      <td>...</td>\n",
       "      <td>...</td>\n",
       "      <td>...</td>\n",
       "      <td>...</td>\n",
       "      <td>...</td>\n",
       "      <td>...</td>\n",
       "      <td>...</td>\n",
       "      <td>...</td>\n",
       "      <td>...</td>\n",
       "      <td>...</td>\n",
       "      <td>...</td>\n",
       "      <td>...</td>\n",
       "      <td>...</td>\n",
       "    </tr>\n",
       "    <tr>\n",
       "      <th>49995</th>\n",
       "      <td>140104440</td>\n",
       "      <td>SO foundation</td>\n",
       "      <td>2019-04-22 00:00:00</td>\n",
       "      <td>2019.0</td>\n",
       "      <td>2019-04-05</td>\n",
       "      <td>20190405</td>\n",
       "      <td>20190405</td>\n",
       "      <td>20190415.0</td>\n",
       "      <td>CAD</td>\n",
       "      <td>121502.65</td>\n",
       "      <td>20190405.0</td>\n",
       "      <td>CA10</td>\n",
       "      <td>2.960539e+09</td>\n",
       "      <td>0</td>\n",
       "    </tr>\n",
       "    <tr>\n",
       "      <th>49996</th>\n",
       "      <td>0200726979</td>\n",
       "      <td>BJ'S  co</td>\n",
       "      <td>2019-08-30 00:00:00</td>\n",
       "      <td>2019.0</td>\n",
       "      <td>2019-08-15</td>\n",
       "      <td>20190816</td>\n",
       "      <td>20190815</td>\n",
       "      <td>20190830.0</td>\n",
       "      <td>USD</td>\n",
       "      <td>399.07</td>\n",
       "      <td>20190815.0</td>\n",
       "      <td>NAA8</td>\n",
       "      <td>1.929753e+09</td>\n",
       "      <td>0</td>\n",
       "    </tr>\n",
       "    <tr>\n",
       "      <th>49997</th>\n",
       "      <td>0200782249</td>\n",
       "      <td>ACE  trust</td>\n",
       "      <td>2019-08-23 00:00:00</td>\n",
       "      <td>2019.0</td>\n",
       "      <td>2019-08-09</td>\n",
       "      <td>20190808</td>\n",
       "      <td>20190809</td>\n",
       "      <td>20190824.0</td>\n",
       "      <td>USD</td>\n",
       "      <td>39776.61</td>\n",
       "      <td>20190809.0</td>\n",
       "      <td>NAA8</td>\n",
       "      <td>1.929723e+09</td>\n",
       "      <td>0</td>\n",
       "    </tr>\n",
       "    <tr>\n",
       "      <th>49998</th>\n",
       "      <td>0200799538</td>\n",
       "      <td>UNITE in</td>\n",
       "      <td>2019-10-30 00:00:00</td>\n",
       "      <td>2019.0</td>\n",
       "      <td>2019-10-15</td>\n",
       "      <td>20191011</td>\n",
       "      <td>20191015</td>\n",
       "      <td>20191030.0</td>\n",
       "      <td>USD</td>\n",
       "      <td>25723.35</td>\n",
       "      <td>20191015.0</td>\n",
       "      <td>NAA8</td>\n",
       "      <td>1.930001e+09</td>\n",
       "      <td>0</td>\n",
       "    </tr>\n",
       "    <tr>\n",
       "      <th>49999</th>\n",
       "      <td>0200769623</td>\n",
       "      <td>WAL-MAR corporation</td>\n",
       "      <td>2020-03-12 00:00:00</td>\n",
       "      <td>2020.0</td>\n",
       "      <td>2020-02-24</td>\n",
       "      <td>20200224</td>\n",
       "      <td>20200224</td>\n",
       "      <td>20200310.0</td>\n",
       "      <td>USD</td>\n",
       "      <td>50331.69</td>\n",
       "      <td>20200224.0</td>\n",
       "      <td>NAH4</td>\n",
       "      <td>1.930562e+09</td>\n",
       "      <td>0</td>\n",
       "    </tr>\n",
       "  </tbody>\n",
       "</table>\n",
       "<p>50000 rows × 14 columns</p>\n",
       "</div>"
      ],
      "text/plain": [
       "      cust_number        name_customer           clear_date  buisness_year  \\\n",
       "0      0200781803       JRD associates  2019-08-26 00:00:00         2019.0   \n",
       "1      0200772670     ASSOCIAT systems  2019-12-26 00:00:00         2019.0   \n",
       "2      0200762301       C&S WH systems  2020-01-22 00:00:00         2020.0   \n",
       "3      0200705742               DOT in                  NaN         2020.0   \n",
       "4      0200769623  WAL-MAR corporation                  NaN         2020.0   \n",
       "...           ...                  ...                  ...            ...   \n",
       "49995   140104440        SO foundation  2019-04-22 00:00:00         2019.0   \n",
       "49996  0200726979             BJ'S  co  2019-08-30 00:00:00         2019.0   \n",
       "49997  0200782249           ACE  trust  2019-08-23 00:00:00         2019.0   \n",
       "49998  0200799538             UNITE in  2019-10-30 00:00:00         2019.0   \n",
       "49999  0200769623  WAL-MAR corporation  2020-03-12 00:00:00         2020.0   \n",
       "\n",
       "      posting_date  document_create_date  document_create_date.1  due_in_date  \\\n",
       "0       2019-08-06              20190807                20190806   20190826.0   \n",
       "1       2019-12-09              20191209                20191209   20191224.0   \n",
       "2       2020-01-04              20200102                20200104   20200119.0   \n",
       "3       2020-03-11              20200311                20200311   20200412.0   \n",
       "4       2020-04-26              20200425                20200426   20200511.0   \n",
       "...            ...                   ...                     ...          ...   \n",
       "49995   2019-04-05              20190405                20190405   20190415.0   \n",
       "49996   2019-08-15              20190816                20190815   20190830.0   \n",
       "49997   2019-08-09              20190808                20190809   20190824.0   \n",
       "49998   2019-10-15              20191011                20191015   20191030.0   \n",
       "49999   2020-02-24              20200224                20200224   20200310.0   \n",
       "\n",
       "      invoice_currency  total_open_amount  baseline_create_date  \\\n",
       "0                  USD            7077.05            20190806.0   \n",
       "1                  USD           79240.12            20191209.0   \n",
       "2                  USD           70810.05            20200104.0   \n",
       "3                  USD             543.23            20200311.0   \n",
       "4                  USD            5360.79            20200426.0   \n",
       "...                ...                ...                   ...   \n",
       "49995              CAD          121502.65            20190405.0   \n",
       "49996              USD             399.07            20190815.0   \n",
       "49997              USD           39776.61            20190809.0   \n",
       "49998              USD           25723.35            20191015.0   \n",
       "49999              USD           50331.69            20200224.0   \n",
       "\n",
       "      cust_payment_terms    invoice_id  isOpen  \n",
       "0                   NAD1  1.929715e+09       0  \n",
       "1                   NAU5  1.930252e+09       0  \n",
       "2                   NAC6  1.930345e+09       0  \n",
       "3                   NA32  1.930641e+09       1  \n",
       "4                   NAH4  1.930827e+09       1  \n",
       "...                  ...           ...     ...  \n",
       "49995               CA10  2.960539e+09       0  \n",
       "49996               NAA8  1.929753e+09       0  \n",
       "49997               NAA8  1.929723e+09       0  \n",
       "49998               NAA8  1.930001e+09       0  \n",
       "49999               NAH4  1.930562e+09       0  \n",
       "\n",
       "[50000 rows x 14 columns]"
      ]
     },
     "execution_count": 10,
     "metadata": {},
     "output_type": "execute_result"
    }
   ],
   "source": [
    "df2 = df.drop(['business_code', 'area_business', 'posting_id', 'doc_id', 'document_type'], axis='columns')\n",
    "df2"
   ]
  },
  {
   "cell_type": "markdown",
   "metadata": {},
   "source": [
    "# Checking for null values"
   ]
  },
  {
   "cell_type": "code",
   "execution_count": 11,
   "metadata": {},
   "outputs": [
    {
     "data": {
      "text/plain": [
       "cust_number                   0\n",
       "name_customer                 0\n",
       "clear_date                10000\n",
       "buisness_year                 0\n",
       "posting_date                  0\n",
       "document_create_date          0\n",
       "document_create_date.1        0\n",
       "due_in_date                   0\n",
       "invoice_currency              0\n",
       "total_open_amount             0\n",
       "baseline_create_date          0\n",
       "cust_payment_terms            0\n",
       "invoice_id                    5\n",
       "isOpen                        0\n",
       "dtype: int64"
      ]
     },
     "execution_count": 11,
     "metadata": {},
     "output_type": "execute_result"
    }
   ],
   "source": [
    "df2.isnull().sum()"
   ]
  },
  {
   "cell_type": "code",
   "execution_count": 12,
   "metadata": {},
   "outputs": [
    {
     "name": "stdout",
     "output_type": "stream",
     "text": [
      "40000\n"
     ]
    },
    {
     "data": {
      "text/html": [
       "<div>\n",
       "<style scoped>\n",
       "    .dataframe tbody tr th:only-of-type {\n",
       "        vertical-align: middle;\n",
       "    }\n",
       "\n",
       "    .dataframe tbody tr th {\n",
       "        vertical-align: top;\n",
       "    }\n",
       "\n",
       "    .dataframe thead th {\n",
       "        text-align: right;\n",
       "    }\n",
       "</style>\n",
       "<table border=\"1\" class=\"dataframe\">\n",
       "  <thead>\n",
       "    <tr style=\"text-align: right;\">\n",
       "      <th></th>\n",
       "      <th>cust_number</th>\n",
       "      <th>name_customer</th>\n",
       "      <th>clear_date</th>\n",
       "      <th>buisness_year</th>\n",
       "      <th>posting_date</th>\n",
       "      <th>document_create_date</th>\n",
       "      <th>document_create_date.1</th>\n",
       "      <th>due_in_date</th>\n",
       "      <th>invoice_currency</th>\n",
       "      <th>total_open_amount</th>\n",
       "      <th>baseline_create_date</th>\n",
       "      <th>cust_payment_terms</th>\n",
       "      <th>invoice_id</th>\n",
       "      <th>isOpen</th>\n",
       "    </tr>\n",
       "  </thead>\n",
       "  <tbody>\n",
       "    <tr>\n",
       "      <th>0</th>\n",
       "      <td>0200781803</td>\n",
       "      <td>JRD associates</td>\n",
       "      <td>2019-08-26 00:00:00</td>\n",
       "      <td>2019.0</td>\n",
       "      <td>2019-08-06</td>\n",
       "      <td>20190807</td>\n",
       "      <td>20190806</td>\n",
       "      <td>20190826.0</td>\n",
       "      <td>USD</td>\n",
       "      <td>7077.05</td>\n",
       "      <td>20190806.0</td>\n",
       "      <td>NAD1</td>\n",
       "      <td>1.929715e+09</td>\n",
       "      <td>0</td>\n",
       "    </tr>\n",
       "    <tr>\n",
       "      <th>1</th>\n",
       "      <td>0200772670</td>\n",
       "      <td>ASSOCIAT systems</td>\n",
       "      <td>2019-12-26 00:00:00</td>\n",
       "      <td>2019.0</td>\n",
       "      <td>2019-12-09</td>\n",
       "      <td>20191209</td>\n",
       "      <td>20191209</td>\n",
       "      <td>20191224.0</td>\n",
       "      <td>USD</td>\n",
       "      <td>79240.12</td>\n",
       "      <td>20191209.0</td>\n",
       "      <td>NAU5</td>\n",
       "      <td>1.930252e+09</td>\n",
       "      <td>0</td>\n",
       "    </tr>\n",
       "    <tr>\n",
       "      <th>2</th>\n",
       "      <td>0200762301</td>\n",
       "      <td>C&amp;S WH systems</td>\n",
       "      <td>2020-01-22 00:00:00</td>\n",
       "      <td>2020.0</td>\n",
       "      <td>2020-01-04</td>\n",
       "      <td>20200102</td>\n",
       "      <td>20200104</td>\n",
       "      <td>20200119.0</td>\n",
       "      <td>USD</td>\n",
       "      <td>70810.05</td>\n",
       "      <td>20200104.0</td>\n",
       "      <td>NAC6</td>\n",
       "      <td>1.930345e+09</td>\n",
       "      <td>0</td>\n",
       "    </tr>\n",
       "    <tr>\n",
       "      <th>6</th>\n",
       "      <td>0200783609</td>\n",
       "      <td>PROFIC associates</td>\n",
       "      <td>2020-02-26 00:00:00</td>\n",
       "      <td>2020.0</td>\n",
       "      <td>2020-02-10</td>\n",
       "      <td>20200208</td>\n",
       "      <td>20200210</td>\n",
       "      <td>20200225.0</td>\n",
       "      <td>USD</td>\n",
       "      <td>43016.22</td>\n",
       "      <td>20200210.0</td>\n",
       "      <td>NAA8</td>\n",
       "      <td>1.930507e+09</td>\n",
       "      <td>0</td>\n",
       "    </tr>\n",
       "    <tr>\n",
       "      <th>7</th>\n",
       "      <td>0200780383</td>\n",
       "      <td>MEIJ in</td>\n",
       "      <td>2019-08-19 00:00:00</td>\n",
       "      <td>2019.0</td>\n",
       "      <td>2019-08-01</td>\n",
       "      <td>20190731</td>\n",
       "      <td>20190801</td>\n",
       "      <td>20190816.0</td>\n",
       "      <td>USD</td>\n",
       "      <td>150187.98</td>\n",
       "      <td>20190801.0</td>\n",
       "      <td>NAA8</td>\n",
       "      <td>1.929682e+09</td>\n",
       "      <td>0</td>\n",
       "    </tr>\n",
       "  </tbody>\n",
       "</table>\n",
       "</div>"
      ],
      "text/plain": [
       "  cust_number      name_customer           clear_date  buisness_year  \\\n",
       "0  0200781803     JRD associates  2019-08-26 00:00:00         2019.0   \n",
       "1  0200772670   ASSOCIAT systems  2019-12-26 00:00:00         2019.0   \n",
       "2  0200762301     C&S WH systems  2020-01-22 00:00:00         2020.0   \n",
       "6  0200783609  PROFIC associates  2020-02-26 00:00:00         2020.0   \n",
       "7  0200780383            MEIJ in  2019-08-19 00:00:00         2019.0   \n",
       "\n",
       "  posting_date  document_create_date  document_create_date.1  due_in_date  \\\n",
       "0   2019-08-06              20190807                20190806   20190826.0   \n",
       "1   2019-12-09              20191209                20191209   20191224.0   \n",
       "2   2020-01-04              20200102                20200104   20200119.0   \n",
       "6   2020-02-10              20200208                20200210   20200225.0   \n",
       "7   2019-08-01              20190731                20190801   20190816.0   \n",
       "\n",
       "  invoice_currency  total_open_amount  baseline_create_date  \\\n",
       "0              USD            7077.05            20190806.0   \n",
       "1              USD           79240.12            20191209.0   \n",
       "2              USD           70810.05            20200104.0   \n",
       "6              USD           43016.22            20200210.0   \n",
       "7              USD          150187.98            20190801.0   \n",
       "\n",
       "  cust_payment_terms    invoice_id  isOpen  \n",
       "0               NAD1  1.929715e+09       0  \n",
       "1               NAU5  1.930252e+09       0  \n",
       "2               NAC6  1.930345e+09       0  \n",
       "6               NAA8  1.930507e+09       0  \n",
       "7               NAA8  1.929682e+09       0  "
      ]
     },
     "execution_count": 12,
     "metadata": {},
     "output_type": "execute_result"
    }
   ],
   "source": [
    "#Separating the 10000 values of clear_date into another dataset \n",
    "df_train_test = df2.loc[df2.loc[:, 'clear_date'].notnull()]\n",
    "print(len(df_train_test))\n",
    "df_train_test.head()"
   ]
  },
  {
   "cell_type": "code",
   "execution_count": 13,
   "metadata": {},
   "outputs": [
    {
     "name": "stdout",
     "output_type": "stream",
     "text": [
      "10000\n"
     ]
    },
    {
     "data": {
      "text/html": [
       "<div>\n",
       "<style scoped>\n",
       "    .dataframe tbody tr th:only-of-type {\n",
       "        vertical-align: middle;\n",
       "    }\n",
       "\n",
       "    .dataframe tbody tr th {\n",
       "        vertical-align: top;\n",
       "    }\n",
       "\n",
       "    .dataframe thead th {\n",
       "        text-align: right;\n",
       "    }\n",
       "</style>\n",
       "<table border=\"1\" class=\"dataframe\">\n",
       "  <thead>\n",
       "    <tr style=\"text-align: right;\">\n",
       "      <th></th>\n",
       "      <th>cust_number</th>\n",
       "      <th>name_customer</th>\n",
       "      <th>clear_date</th>\n",
       "      <th>buisness_year</th>\n",
       "      <th>posting_date</th>\n",
       "      <th>document_create_date</th>\n",
       "      <th>document_create_date.1</th>\n",
       "      <th>due_in_date</th>\n",
       "      <th>invoice_currency</th>\n",
       "      <th>total_open_amount</th>\n",
       "      <th>baseline_create_date</th>\n",
       "      <th>cust_payment_terms</th>\n",
       "      <th>invoice_id</th>\n",
       "      <th>isOpen</th>\n",
       "    </tr>\n",
       "  </thead>\n",
       "  <tbody>\n",
       "    <tr>\n",
       "      <th>3</th>\n",
       "      <td>0200705742</td>\n",
       "      <td>DOT in</td>\n",
       "      <td>NaN</td>\n",
       "      <td>2020.0</td>\n",
       "      <td>2020-03-11</td>\n",
       "      <td>20200311</td>\n",
       "      <td>20200311</td>\n",
       "      <td>20200412.0</td>\n",
       "      <td>USD</td>\n",
       "      <td>543.23</td>\n",
       "      <td>20200311.0</td>\n",
       "      <td>NA32</td>\n",
       "      <td>1.930641e+09</td>\n",
       "      <td>1</td>\n",
       "    </tr>\n",
       "    <tr>\n",
       "      <th>4</th>\n",
       "      <td>0200769623</td>\n",
       "      <td>WAL-MAR corporation</td>\n",
       "      <td>NaN</td>\n",
       "      <td>2020.0</td>\n",
       "      <td>2020-04-26</td>\n",
       "      <td>20200425</td>\n",
       "      <td>20200426</td>\n",
       "      <td>20200511.0</td>\n",
       "      <td>USD</td>\n",
       "      <td>5360.79</td>\n",
       "      <td>20200426.0</td>\n",
       "      <td>NAH4</td>\n",
       "      <td>1.930827e+09</td>\n",
       "      <td>1</td>\n",
       "    </tr>\n",
       "    <tr>\n",
       "      <th>5</th>\n",
       "      <td>0200416837</td>\n",
       "      <td>DEC</td>\n",
       "      <td>NaN</td>\n",
       "      <td>2020.0</td>\n",
       "      <td>2020-03-20</td>\n",
       "      <td>20200320</td>\n",
       "      <td>20200320</td>\n",
       "      <td>20200408.0</td>\n",
       "      <td>USD</td>\n",
       "      <td>1306.94</td>\n",
       "      <td>20200316.0</td>\n",
       "      <td>NAM4</td>\n",
       "      <td>1.930672e+09</td>\n",
       "      <td>1</td>\n",
       "    </tr>\n",
       "    <tr>\n",
       "      <th>15</th>\n",
       "      <td>0140106408</td>\n",
       "      <td>WAL-M trust</td>\n",
       "      <td>NaN</td>\n",
       "      <td>2020.0</td>\n",
       "      <td>2020-03-31</td>\n",
       "      <td>20200331</td>\n",
       "      <td>20200331</td>\n",
       "      <td>20200410.0</td>\n",
       "      <td>CAD</td>\n",
       "      <td>73457.96</td>\n",
       "      <td>20200331.0</td>\n",
       "      <td>CA10</td>\n",
       "      <td>2.960625e+09</td>\n",
       "      <td>1</td>\n",
       "    </tr>\n",
       "    <tr>\n",
       "      <th>21</th>\n",
       "      <td>0140104285</td>\n",
       "      <td>BUY- in</td>\n",
       "      <td>NaN</td>\n",
       "      <td>2020.0</td>\n",
       "      <td>2020-04-13</td>\n",
       "      <td>20200414</td>\n",
       "      <td>20200413</td>\n",
       "      <td>20200502.0</td>\n",
       "      <td>CAD</td>\n",
       "      <td>7183.23</td>\n",
       "      <td>20200422.0</td>\n",
       "      <td>CA10</td>\n",
       "      <td>2.960629e+09</td>\n",
       "      <td>1</td>\n",
       "    </tr>\n",
       "  </tbody>\n",
       "</table>\n",
       "</div>"
      ],
      "text/plain": [
       "   cust_number        name_customer clear_date  buisness_year posting_date  \\\n",
       "3   0200705742               DOT in        NaN         2020.0   2020-03-11   \n",
       "4   0200769623  WAL-MAR corporation        NaN         2020.0   2020-04-26   \n",
       "5   0200416837                 DEC         NaN         2020.0   2020-03-20   \n",
       "15  0140106408          WAL-M trust        NaN         2020.0   2020-03-31   \n",
       "21  0140104285              BUY- in        NaN         2020.0   2020-04-13   \n",
       "\n",
       "    document_create_date  document_create_date.1  due_in_date  \\\n",
       "3               20200311                20200311   20200412.0   \n",
       "4               20200425                20200426   20200511.0   \n",
       "5               20200320                20200320   20200408.0   \n",
       "15              20200331                20200331   20200410.0   \n",
       "21              20200414                20200413   20200502.0   \n",
       "\n",
       "   invoice_currency  total_open_amount  baseline_create_date  \\\n",
       "3               USD             543.23            20200311.0   \n",
       "4               USD            5360.79            20200426.0   \n",
       "5               USD            1306.94            20200316.0   \n",
       "15              CAD           73457.96            20200331.0   \n",
       "21              CAD            7183.23            20200422.0   \n",
       "\n",
       "   cust_payment_terms    invoice_id  isOpen  \n",
       "3                NA32  1.930641e+09       1  \n",
       "4                NAH4  1.930827e+09       1  \n",
       "5                NAM4  1.930672e+09       1  \n",
       "15               CA10  2.960625e+09       1  \n",
       "21               CA10  2.960629e+09       1  "
      ]
     },
     "execution_count": 13,
     "metadata": {},
     "output_type": "execute_result"
    }
   ],
   "source": [
    "#This dataset is the prediction dataset which will be used to predict the payment date\n",
    "df_predict = df2.loc[df2.loc[:, 'clear_date'].isnull()]\n",
    "print(len(df_predict))\n",
    "df_predict.head()"
   ]
  },
  {
   "cell_type": "code",
   "execution_count": 14,
   "metadata": {},
   "outputs": [
    {
     "name": "stdout",
     "output_type": "stream",
     "text": [
      "39995\n"
     ]
    }
   ],
   "source": [
    "df_train_test = df_train_test.loc[df_train_test['invoice_id'].notnull()]\n",
    "print(len(df_train_test))"
   ]
  },
  {
   "cell_type": "code",
   "execution_count": 15,
   "metadata": {},
   "outputs": [
    {
     "data": {
      "text/plain": [
       "cust_number               0\n",
       "name_customer             0\n",
       "clear_date                0\n",
       "buisness_year             0\n",
       "posting_date              0\n",
       "document_create_date      0\n",
       "document_create_date.1    0\n",
       "due_in_date               0\n",
       "invoice_currency          0\n",
       "total_open_amount         0\n",
       "baseline_create_date      0\n",
       "cust_payment_terms        0\n",
       "invoice_id                0\n",
       "isOpen                    0\n",
       "dtype: int64"
      ]
     },
     "execution_count": 15,
     "metadata": {},
     "output_type": "execute_result"
    }
   ],
   "source": [
    "df_train_test.isnull().sum()"
   ]
  },
  {
   "cell_type": "code",
   "execution_count": 16,
   "metadata": {},
   "outputs": [
    {
     "data": {
      "text/plain": [
       "cust_number                object\n",
       "name_customer              object\n",
       "clear_date                 object\n",
       "buisness_year             float64\n",
       "posting_date               object\n",
       "document_create_date        int64\n",
       "document_create_date.1      int64\n",
       "due_in_date               float64\n",
       "invoice_currency           object\n",
       "total_open_amount         float64\n",
       "baseline_create_date      float64\n",
       "cust_payment_terms         object\n",
       "invoice_id                float64\n",
       "isOpen                      int64\n",
       "dtype: object"
      ]
     },
     "execution_count": 16,
     "metadata": {},
     "output_type": "execute_result"
    }
   ],
   "source": [
    "#checking data type\n",
    "df_train_test.dtypes"
   ]
  },
  {
   "cell_type": "code",
   "execution_count": 17,
   "metadata": {},
   "outputs": [],
   "source": [
    "#changing into datetime format\n",
    "df_train_test['clear_date'] = pd.to_datetime(df_train_test['clear_date'])\n",
    "df_train_test['posting_date'] = pd.to_datetime(df_train_test['posting_date'])"
   ]
  },
  {
   "cell_type": "code",
   "execution_count": 18,
   "metadata": {},
   "outputs": [
    {
     "data": {
      "text/plain": [
       "cust_number                       object\n",
       "name_customer                     object\n",
       "clear_date                datetime64[ns]\n",
       "buisness_year                    float64\n",
       "posting_date              datetime64[ns]\n",
       "document_create_date      datetime64[ns]\n",
       "document_create_date.1             int64\n",
       "due_in_date                      float64\n",
       "invoice_currency                  object\n",
       "total_open_amount                float64\n",
       "baseline_create_date             float64\n",
       "cust_payment_terms                object\n",
       "invoice_id                       float64\n",
       "isOpen                             int64\n",
       "dtype: object"
      ]
     },
     "execution_count": 18,
     "metadata": {},
     "output_type": "execute_result"
    }
   ],
   "source": [
    "#changing into datetime format\n",
    "df_train_test['document_create_date'] = pd.to_datetime(df_train_test['document_create_date'], format='%Y%m%d')\n",
    "#now again checking datatypes after the conversion\n",
    "df_train_test.dtypes"
   ]
  },
  {
   "cell_type": "code",
   "execution_count": 19,
   "metadata": {},
   "outputs": [
    {
     "data": {
      "text/plain": [
       "cust_number                       object\n",
       "name_customer                     object\n",
       "clear_date                datetime64[ns]\n",
       "buisness_year                    float64\n",
       "posting_date              datetime64[ns]\n",
       "document_create_date      datetime64[ns]\n",
       "document_create_date.1    datetime64[ns]\n",
       "due_in_date               datetime64[ns]\n",
       "invoice_currency                  object\n",
       "total_open_amount                float64\n",
       "baseline_create_date      datetime64[ns]\n",
       "cust_payment_terms                object\n",
       "invoice_id                       float64\n",
       "isOpen                             int64\n",
       "dtype: object"
      ]
     },
     "execution_count": 19,
     "metadata": {},
     "output_type": "execute_result"
    }
   ],
   "source": [
    "#now since many values has to be change into the format of datetime so now changing it\n",
    "df_train_test['document_create_date.1'] = pd.to_datetime(df_train_test['document_create_date.1'], format='%Y%m%d')\n",
    "df_train_test['baseline_create_date'] = pd.to_datetime(df_train_test['baseline_create_date'], format='%Y%m%d')\n",
    "df_train_test['due_in_date'] = pd.to_datetime(df_train_test['due_in_date'], format='%Y%m%d')\n",
    "\n",
    "# now again checking datatypes after the conversion\n",
    "df_train_test.dtypes"
   ]
  },
  {
   "cell_type": "code",
   "execution_count": 20,
   "metadata": {},
   "outputs": [
    {
     "data": {
      "text/html": [
       "<div>\n",
       "<style scoped>\n",
       "    .dataframe tbody tr th:only-of-type {\n",
       "        vertical-align: middle;\n",
       "    }\n",
       "\n",
       "    .dataframe tbody tr th {\n",
       "        vertical-align: top;\n",
       "    }\n",
       "\n",
       "    .dataframe thead th {\n",
       "        text-align: right;\n",
       "    }\n",
       "</style>\n",
       "<table border=\"1\" class=\"dataframe\">\n",
       "  <thead>\n",
       "    <tr style=\"text-align: right;\">\n",
       "      <th></th>\n",
       "      <th>cust_number</th>\n",
       "      <th>name_customer</th>\n",
       "      <th>clear_date</th>\n",
       "      <th>buisness_year</th>\n",
       "      <th>posting_date</th>\n",
       "      <th>document_create_date</th>\n",
       "      <th>document_create_date.1</th>\n",
       "      <th>due_in_date</th>\n",
       "      <th>invoice_currency</th>\n",
       "      <th>total_open_amount</th>\n",
       "      <th>baseline_create_date</th>\n",
       "      <th>cust_payment_terms</th>\n",
       "      <th>invoice_id</th>\n",
       "      <th>isOpen</th>\n",
       "    </tr>\n",
       "  </thead>\n",
       "  <tbody>\n",
       "    <tr>\n",
       "      <th>0</th>\n",
       "      <td>0200781803</td>\n",
       "      <td>JRD associates</td>\n",
       "      <td>2019-08-26</td>\n",
       "      <td>2019.0</td>\n",
       "      <td>2019-08-06</td>\n",
       "      <td>2019-08-07</td>\n",
       "      <td>2019-08-06</td>\n",
       "      <td>2019-08-26</td>\n",
       "      <td>USD</td>\n",
       "      <td>7077.05</td>\n",
       "      <td>2019-08-06</td>\n",
       "      <td>NAD1</td>\n",
       "      <td>1.929715e+09</td>\n",
       "      <td>0</td>\n",
       "    </tr>\n",
       "    <tr>\n",
       "      <th>1</th>\n",
       "      <td>0200772670</td>\n",
       "      <td>ASSOCIAT systems</td>\n",
       "      <td>2019-12-26</td>\n",
       "      <td>2019.0</td>\n",
       "      <td>2019-12-09</td>\n",
       "      <td>2019-12-09</td>\n",
       "      <td>2019-12-09</td>\n",
       "      <td>2019-12-24</td>\n",
       "      <td>USD</td>\n",
       "      <td>79240.12</td>\n",
       "      <td>2019-12-09</td>\n",
       "      <td>NAU5</td>\n",
       "      <td>1.930252e+09</td>\n",
       "      <td>0</td>\n",
       "    </tr>\n",
       "    <tr>\n",
       "      <th>2</th>\n",
       "      <td>0200762301</td>\n",
       "      <td>C&amp;S WH systems</td>\n",
       "      <td>2020-01-22</td>\n",
       "      <td>2020.0</td>\n",
       "      <td>2020-01-04</td>\n",
       "      <td>2020-01-02</td>\n",
       "      <td>2020-01-04</td>\n",
       "      <td>2020-01-19</td>\n",
       "      <td>USD</td>\n",
       "      <td>70810.05</td>\n",
       "      <td>2020-01-04</td>\n",
       "      <td>NAC6</td>\n",
       "      <td>1.930345e+09</td>\n",
       "      <td>0</td>\n",
       "    </tr>\n",
       "    <tr>\n",
       "      <th>6</th>\n",
       "      <td>0200783609</td>\n",
       "      <td>PROFIC associates</td>\n",
       "      <td>2020-02-26</td>\n",
       "      <td>2020.0</td>\n",
       "      <td>2020-02-10</td>\n",
       "      <td>2020-02-08</td>\n",
       "      <td>2020-02-10</td>\n",
       "      <td>2020-02-25</td>\n",
       "      <td>USD</td>\n",
       "      <td>43016.22</td>\n",
       "      <td>2020-02-10</td>\n",
       "      <td>NAA8</td>\n",
       "      <td>1.930507e+09</td>\n",
       "      <td>0</td>\n",
       "    </tr>\n",
       "    <tr>\n",
       "      <th>7</th>\n",
       "      <td>0200780383</td>\n",
       "      <td>MEIJ in</td>\n",
       "      <td>2019-08-19</td>\n",
       "      <td>2019.0</td>\n",
       "      <td>2019-08-01</td>\n",
       "      <td>2019-07-31</td>\n",
       "      <td>2019-08-01</td>\n",
       "      <td>2019-08-16</td>\n",
       "      <td>USD</td>\n",
       "      <td>150187.98</td>\n",
       "      <td>2019-08-01</td>\n",
       "      <td>NAA8</td>\n",
       "      <td>1.929682e+09</td>\n",
       "      <td>0</td>\n",
       "    </tr>\n",
       "  </tbody>\n",
       "</table>\n",
       "</div>"
      ],
      "text/plain": [
       "  cust_number      name_customer clear_date  buisness_year posting_date  \\\n",
       "0  0200781803     JRD associates 2019-08-26         2019.0   2019-08-06   \n",
       "1  0200772670   ASSOCIAT systems 2019-12-26         2019.0   2019-12-09   \n",
       "2  0200762301     C&S WH systems 2020-01-22         2020.0   2020-01-04   \n",
       "6  0200783609  PROFIC associates 2020-02-26         2020.0   2020-02-10   \n",
       "7  0200780383            MEIJ in 2019-08-19         2019.0   2019-08-01   \n",
       "\n",
       "  document_create_date document_create_date.1 due_in_date invoice_currency  \\\n",
       "0           2019-08-07             2019-08-06  2019-08-26              USD   \n",
       "1           2019-12-09             2019-12-09  2019-12-24              USD   \n",
       "2           2020-01-02             2020-01-04  2020-01-19              USD   \n",
       "6           2020-02-08             2020-02-10  2020-02-25              USD   \n",
       "7           2019-07-31             2019-08-01  2019-08-16              USD   \n",
       "\n",
       "   total_open_amount baseline_create_date cust_payment_terms    invoice_id  \\\n",
       "0            7077.05           2019-08-06               NAD1  1.929715e+09   \n",
       "1           79240.12           2019-12-09               NAU5  1.930252e+09   \n",
       "2           70810.05           2020-01-04               NAC6  1.930345e+09   \n",
       "6           43016.22           2020-02-10               NAA8  1.930507e+09   \n",
       "7          150187.98           2019-08-01               NAA8  1.929682e+09   \n",
       "\n",
       "   isOpen  \n",
       "0       0  \n",
       "1       0  \n",
       "2       0  \n",
       "6       0  \n",
       "7       0  "
      ]
     },
     "execution_count": 20,
     "metadata": {},
     "output_type": "execute_result"
    }
   ],
   "source": [
    "df_train_test.head()"
   ]
  },
  {
   "cell_type": "code",
   "execution_count": 44,
   "metadata": {},
   "outputs": [
    {
     "data": {
      "text/plain": [
       "4411"
      ]
     },
     "execution_count": 44,
     "metadata": {},
     "output_type": "execute_result"
    }
   ],
   "source": [
    "(df_train_test['baseline_create_date']!= df_train_test['posting_date']).sum()"
   ]
  },
  {
   "cell_type": "code",
   "execution_count": 45,
   "metadata": {},
   "outputs": [
    {
     "data": {
      "text/plain": [
       "cust_number                1345\n",
       "name_customer              3907\n",
       "clear_date                  403\n",
       "buisness_year                 2\n",
       "posting_date                422\n",
       "document_create_date        426\n",
       "document_create_date.1      422\n",
       "due_in_date                 491\n",
       "invoice_currency              2\n",
       "total_open_amount         35617\n",
       "baseline_create_date        430\n",
       "cust_payment_terms           72\n",
       "invoice_id                39100\n",
       "isOpen                        1\n",
       "dtype: int64"
      ]
     },
     "execution_count": 45,
     "metadata": {},
     "output_type": "execute_result"
    }
   ],
   "source": [
    "df_train_test.nunique()"
   ]
  },
  {
   "cell_type": "code",
   "execution_count": 21,
   "metadata": {},
   "outputs": [],
   "source": [
    "# changing from float to datetime format with respect to year for buisness_year\n",
    "df_train_test['buisness_year'] = pd.to_datetime(df_train_test['buisness_year'], format='%Y')"
   ]
  },
  {
   "cell_type": "code",
   "execution_count": 22,
   "metadata": {},
   "outputs": [
    {
     "data": {
      "text/plain": [
       "39995"
      ]
     },
     "execution_count": 22,
     "metadata": {},
     "output_type": "execute_result"
    }
   ],
   "source": [
    "#checking the length of the dataset\n",
    "len(df_train_test)"
   ]
  },
  {
   "cell_type": "markdown",
   "metadata": {},
   "source": [
    "# EDA"
   ]
  },
  {
   "cell_type": "code",
   "execution_count": 23,
   "metadata": {},
   "outputs": [
    {
     "data": {
      "text/plain": [
       "<matplotlib.collections.PathCollection at 0x21bb717fe08>"
      ]
     },
     "execution_count": 23,
     "metadata": {},
     "output_type": "execute_result"
    },
    {
     "data": {
      "image/png": "[encoded data removed]",
      "text/plain": [
       "<Figure size 432x288 with 1 Axes>"
      ]
     },
     "metadata": {
      "needs_background": "light"
     },
     "output_type": "display_data"
    }
   ],
   "source": [
    "#Scatter plotting between clear_date and posting_date to check how it is been formed\n",
    "plt.scatter(df_train_test['clear_date'],df_train_test['posting_date'])\n",
    "# we can see it is linearly formed so we will use LinearRegression model for the prediction"
   ]
  },
  {
   "cell_type": "markdown",
   "metadata": {},
   "source": [
    "# Splittig into train set and test set"
   ]
  },
  {
   "cell_type": "code",
   "execution_count": 24,
   "metadata": {},
   "outputs": [],
   "source": [
    "#splitting into 20% by using train_test_split function\n",
    "from sklearn.model_selection import train_test_split\n",
    "df_train, df_test = train_test_split(df_train_test, test_size=.2)"
   ]
  },
  {
   "cell_type": "code",
   "execution_count": 25,
   "metadata": {},
   "outputs": [
    {
     "data": {
      "text/plain": [
       "31996"
      ]
     },
     "execution_count": 25,
     "metadata": {},
     "output_type": "execute_result"
    }
   ],
   "source": [
    "#calculating the train set length which is of 80%\n",
    "len(df_train)"
   ]
  },
  {
   "cell_type": "code",
   "execution_count": 26,
   "metadata": {},
   "outputs": [
    {
     "data": {
      "text/plain": [
       "7999"
      ]
     },
     "execution_count": 26,
     "metadata": {},
     "output_type": "execute_result"
    }
   ],
   "source": [
    "#calculating the train set length which is of remaining 20%\n",
    "len(df_test)"
   ]
  },
  {
   "cell_type": "code",
   "execution_count": 27,
   "metadata": {},
   "outputs": [],
   "source": [
    "x_train = df_train.loc[:, 'posting_date']\n",
    "y_train = df_train.loc[:, 'clear_date']"
   ]
  },
  {
   "cell_type": "code",
   "execution_count": 95,
   "metadata": {},
   "outputs": [],
   "source": [
    "#mapping the datetime to the ordinal value format\n",
    "type(x_train)\n",
    "import datetime as dt\n",
    "post = df_train.loc[:, 'posting_date'].map(dt.datetime.toordinal)\n",
    "docdate=df_train.loc[:,'document_create_date'].map(dt.datetime.toordinal)\n",
    "due=df_train.loc[:,'due_in_date'].map(dt.datetime.toordinal)"
   ]
  },
  {
   "cell_type": "code",
   "execution_count": 96,
   "metadata": {},
   "outputs": [
    {
     "data": {
      "text/plain": [
       "pandas.core.series.Series"
      ]
     },
     "execution_count": 96,
     "metadata": {},
     "output_type": "execute_result"
    }
   ],
   "source": [
    "#checking the type of dataset\n",
    "type(post)"
   ]
  },
  {
   "cell_type": "code",
   "execution_count": 97,
   "metadata": {},
   "outputs": [
    {
     "data": {
      "text/plain": [
       "array([737170, 737457, 737322, ..., 737363, 737135, 737110], dtype=int64)"
      ]
     },
     "execution_count": 97,
     "metadata": {},
     "output_type": "execute_result"
    }
   ],
   "source": [
    "#array of posting_date ordinal values\n",
    "post.values"
   ]
  },
  {
   "cell_type": "code",
   "execution_count": 100,
   "metadata": {},
   "outputs": [
    {
     "data": {
      "text/plain": [
       "array([737170, 737456, 737322, ..., 737364, 737135, 737110], dtype=int64)"
      ]
     },
     "execution_count": 100,
     "metadata": {},
     "output_type": "execute_result"
    }
   ],
   "source": [
    "#array of document_create_date ordinal values\n",
    "docdate.values"
   ]
  },
  {
   "cell_type": "code",
   "execution_count": 101,
   "metadata": {},
   "outputs": [
    {
     "data": {
      "text/plain": [
       "array([737185, 737472, 737337, ..., 737378, 737145, 737125], dtype=int64)"
      ]
     },
     "execution_count": 101,
     "metadata": {},
     "output_type": "execute_result"
    }
   ],
   "source": [
    "#array of due_in_date ordinal values\n",
    "due.values"
   ]
  },
  {
   "cell_type": "code",
   "execution_count": 102,
   "metadata": {},
   "outputs": [],
   "source": [
    "zz = df_train.loc[:, 'clear_date'].map(dt.datetime.toordinal)"
   ]
  },
  {
   "cell_type": "code",
   "execution_count": 103,
   "metadata": {},
   "outputs": [
    {
     "data": {
      "text/plain": [
       "(31996,)"
      ]
     },
     "execution_count": 103,
     "metadata": {},
     "output_type": "execute_result"
    }
   ],
   "source": [
    "#checkig the rows and columns\n",
    "post.shape\n"
   ]
  },
  {
   "cell_type": "code",
   "execution_count": 104,
   "metadata": {},
   "outputs": [],
   "source": [
    "import numpy as np\n",
    "post=post[:, np.newaxis]"
   ]
  },
  {
   "cell_type": "raw",
   "metadata": {},
   "source": [
    "post.shape"
   ]
  },
  {
   "cell_type": "code",
   "execution_count": 105,
   "metadata": {},
   "outputs": [],
   "source": [
    "docdate = docdate[:, np.newaxis]"
   ]
  },
  {
   "cell_type": "code",
   "execution_count": 106,
   "metadata": {},
   "outputs": [],
   "source": [
    "due=due[:,np.newaxis]"
   ]
  },
  {
   "cell_type": "code",
   "execution_count": 107,
   "metadata": {},
   "outputs": [],
   "source": [
    "final = np.concatenate((post, docdate,due), axis=1)"
   ]
  },
  {
   "cell_type": "code",
   "execution_count": 108,
   "metadata": {},
   "outputs": [
    {
     "data": {
      "text/plain": [
       "(31996, 3)"
      ]
     },
     "execution_count": 108,
     "metadata": {},
     "output_type": "execute_result"
    }
   ],
   "source": [
    "final.shape"
   ]
  },
  {
   "cell_type": "code",
   "execution_count": 109,
   "metadata": {},
   "outputs": [
    {
     "data": {
      "text/plain": [
       "numpy.ndarray"
      ]
     },
     "execution_count": 109,
     "metadata": {},
     "output_type": "execute_result"
    }
   ],
   "source": [
    "type(final)"
   ]
  },
  {
   "cell_type": "code",
   "execution_count": 110,
   "metadata": {},
   "outputs": [],
   "source": [
    "# ss = rr[np.newaxis, :]\n",
    "# ss = np.reshape(rr, (-1, 31996))"
   ]
  },
  {
   "cell_type": "code",
   "execution_count": 111,
   "metadata": {},
   "outputs": [
    {
     "data": {
      "text/plain": [
       "(31996, 3)"
      ]
     },
     "execution_count": 111,
     "metadata": {},
     "output_type": "execute_result"
    }
   ],
   "source": [
    "final.shape\n"
   ]
  },
  {
   "cell_type": "code",
   "execution_count": 112,
   "metadata": {},
   "outputs": [
    {
     "data": {
      "text/plain": [
       "(31996,)"
      ]
     },
     "execution_count": 112,
     "metadata": {},
     "output_type": "execute_result"
    }
   ],
   "source": [
    "zz.shape"
   ]
  },
  {
   "cell_type": "markdown",
   "metadata": {},
   "source": [
    "# Building Model"
   ]
  },
  {
   "cell_type": "code",
   "execution_count": 113,
   "metadata": {},
   "outputs": [
    {
     "data": {
      "text/plain": [
       "LinearRegression(copy_X=True, fit_intercept=True, n_jobs=None, normalize=False)"
      ]
     },
     "execution_count": 113,
     "metadata": {},
     "output_type": "execute_result"
    }
   ],
   "source": [
    "import numpy as np\n",
    "from sklearn.linear_model import LinearRegression\n",
    "linear_model = LinearRegression()\n",
    "linear_model.fit(final, zz)"
   ]
  },
  {
   "cell_type": "code",
   "execution_count": 114,
   "metadata": {},
   "outputs": [],
   "source": [
    "x_test = df_train.loc[:, 'posting_date']\n",
    "x_test1=df_train.loc[:,'document_create_date']\n",
    "x_test2=df_train.loc[:,'due_in_date']\n",
    "y_test = df_train.loc[:, 'clear_date'].map(dt.datetime.toordinal)"
   ]
  },
  {
   "cell_type": "code",
   "execution_count": 115,
   "metadata": {},
   "outputs": [
    {
     "data": {
      "text/plain": [
       "array([[737170],\n",
       "       [737457],\n",
       "       [737322],\n",
       "       ...,\n",
       "       [737363],\n",
       "       [737135],\n",
       "       [737110]], dtype=int64)"
      ]
     },
     "execution_count": 115,
     "metadata": {},
     "output_type": "execute_result"
    }
   ],
   "source": [
    "x_testa = x_test.map(dt.datetime.toordinal)\n",
    "testing1=x_test1.map(dt.datetime.toordinal)\n",
    "testing2=x_test2.map(dt.datetime.toordinal)\n",
    "x_testb = x_testa[:, np.newaxis]\n",
    "x_testb"
   ]
  },
  {
   "cell_type": "code",
   "execution_count": 116,
   "metadata": {},
   "outputs": [],
   "source": [
    "x_testc=testing1[:,np.newaxis]\n",
    "x_testd=testing2[:,np.newaxis]"
   ]
  },
  {
   "cell_type": "code",
   "execution_count": 117,
   "metadata": {},
   "outputs": [],
   "source": [
    "hi=np.concatenate((x_testb,x_testc,x_testd), axis=1)\n"
   ]
  },
  {
   "cell_type": "markdown",
   "metadata": {},
   "source": [
    "# Checking Prediction"
   ]
  },
  {
   "cell_type": "code",
   "execution_count": 135,
   "metadata": {},
   "outputs": [
    {
     "data": {
      "text/plain": [
       "array([737186.50754575, 737472.76182531, 737338.00713516, ...,\n",
       "       737378.67302222, 737147.70690182, 737126.70507625])"
      ]
     },
     "execution_count": 135,
     "metadata": {},
     "output_type": "execute_result"
    }
   ],
   "source": [
    "linear_model.predict(hi)"
   ]
  },
  {
   "cell_type": "code",
   "execution_count": 136,
   "metadata": {},
   "outputs": [
    {
     "data": {
      "text/plain": [
       "0.9926071684538236"
      ]
     },
     "execution_count": 136,
     "metadata": {},
     "output_type": "execute_result"
    }
   ],
   "source": [
    "#checking the score and the accuracy\n",
    "linear_model.score(hi, y_test)"
   ]
  },
  {
   "cell_type": "code",
   "execution_count": 137,
   "metadata": {},
   "outputs": [
    {
     "ename": "AttributeError",
     "evalue": "'numpy.ndarray' object has no attribute 'to_pydatetime'",
     "output_type": "error",
     "traceback": [
      "\u001b[1;31m---------------------------------------------------------------------------\u001b[0m",
      "\u001b[1;31mAttributeError\u001b[0m                            Traceback (most recent call last)",
      "\u001b[1;32m<ipython-input-137-973eb585973f>\u001b[0m in \u001b[0;36m<module>\u001b[1;34m\u001b[0m\n\u001b[1;32m----> 1\u001b[1;33m \u001b[0mf\u001b[0m\u001b[1;33m=\u001b[0m\u001b[0mprediction\u001b[0m\u001b[1;33m.\u001b[0m\u001b[0mto_pydatetime\u001b[0m\u001b[1;33m(\u001b[0m\u001b[1;33m)\u001b[0m\u001b[1;33m.\u001b[0m\u001b[0mdate\u001b[0m\u001b[1;33m(\u001b[0m\u001b[1;33m)\u001b[0m\u001b[1;33m\u001b[0m\u001b[1;33m\u001b[0m\u001b[0m\n\u001b[0m",
      "\u001b[1;31mAttributeError\u001b[0m: 'numpy.ndarray' object has no attribute 'to_pydatetime'"
     ]
    }
   ],
   "source": [
    "\n",
    "f=prediction.to_pydatetime().date()"
   ]
  },
  {
   "cell_type": "code",
   "execution_count": null,
   "metadata": {},
   "outputs": [],
   "source": []
  },
  {
   "cell_type": "code",
   "execution_count": null,
   "metadata": {},
   "outputs": [],
   "source": []
  },
  {
   "cell_type": "code",
   "execution_count": null,
   "metadata": {},
   "outputs": [],
   "source": []
  },
  {
   "cell_type": "code",
   "execution_count": null,
   "metadata": {},
   "outputs": [],
   "source": []
  }
 ],
 "metadata": {
  "kernelspec": {
   "display_name": "Python 3",
   "language": "python",
   "name": "python3"
  },
  "language_info": {
   "codemirror_mode": {
    "name": "ipython",
    "version": 3
   },
   "file_extension": ".py",
   "mimetype": "text/x-python",
   "name": "python",
   "nbconvert_exporter": "python",
   "pygments_lexer": "ipython3",
   "version": "3.7.6"
  }
 },
 "nbformat": 4,
 "nbformat_minor": 4
}
